{
 "cells": [
  {
   "cell_type": "code",
   "execution_count": 1,
   "metadata": {},
   "outputs": [],
   "source": [
    "import pandas as pd\n",
    "import numpy as np\n",
    "\n",
    "import os\n",
    "\n",
    "def load_hotel_reserve():\n",
    "  customer_tb = pd.read_csv('../awesomebook-master/data/customer.csv')\n",
    "  hotel_tb = pd.read_csv('../awesomebook-master/data/hotel.csv')\n",
    "  reserve_tb = pd.read_csv('../awesomebook-master/data/reserve.csv')\n",
    "  return customer_tb, hotel_tb, reserve_tb\n",
    "\n",
    "\n",
    "def load_holiday_mst():\n",
    "  holiday_tb = pd.read_csv('../awesomebook-master/data/holiday_mst.csv',\n",
    "                           index_col=False)\n",
    "  return holiday_tb\n",
    "\n",
    "\n",
    "def load_production():\n",
    "  production_tb = pd.read_csv('../awesomebook-master/data/production.csv')\n",
    "  return production_tb\n",
    "\n",
    "\n",
    "def load_production_missing_num():\n",
    "  production_tb = pd.read_csv('../awesomebook-master/data/production_missing_num.csv')\n",
    "  return production_tb\n",
    "\n",
    "\n",
    "def load_production_missing_category():\n",
    "  production_tb = pd.read_csv('../awesomebook-master/data/production_missing_category.csv')\n",
    "  return production_tb\n",
    "\n",
    "\n",
    "def load_monthly_index():\n",
    "  monthly_index_tb = \\\n",
    "    pd.read_csv('../awesomebook-master/data/monthly_index.csv')\n",
    "  return monthly_index_tb\n",
    "\n",
    "\n",
    "def load_meros_txt():\n",
    "  with open('../awesomebook-master/data/txt/meros.txt', 'r') as f:\n",
    "    meros = f.read()\n",
    "    f.close()\n",
    "  return meros\n"
   ]
  },
  {
   "cell_type": "code",
   "execution_count": 2,
   "metadata": {},
   "outputs": [],
   "source": [
    "customer_tb, hotel_tb, reserve_tb = load_hotel_reserve()"
   ]
  },
  {
   "cell_type": "code",
   "execution_count": 3,
   "metadata": {},
   "outputs": [
    {
     "data": {
      "text/plain": [
       "Index(['man', 'woman'], dtype='object')"
      ]
     },
     "execution_count": 3,
     "metadata": {},
     "output_type": "execute_result"
    }
   ],
   "source": [
    "# sex가 man일 때 TRUE 값을 가지는 불린 형을 추가\n",
    "# 이 코드는 as.type 함수가 아니여도 불린형으로 변환된다\n",
    "customer_tb[['sex_is_man']] = (customer_tb[['sex']] == 'man').astype('bool')\n",
    "\n",
    "# sex를 카테고리 형으로 변환\n",
    "customer_tb['sex_c'] = \\\n",
    "  pd.Categorical(customer_tb['sex'], categories=['man', 'woman'])\n",
    "\n",
    "# astype 함수로도 변환 가능\n",
    "# customer_tb['sex_c'] = customer_tb['sex_c'].astype('category')\n",
    "\n",
    "# 인덱스 데이터는 codes에 저장된다\n",
    "customer_tb['sex_c'].cat.codes\n",
    "\n",
    "# 마스터 데이터는 categories에 저장된다\n",
    "customer_tb['sex_c'].cat.categories\n"
   ]
  },
  {
   "cell_type": "code",
   "execution_count": 4,
   "metadata": {},
   "outputs": [
    {
     "data": {
      "text/html": [
       "<div>\n",
       "<style scoped>\n",
       "    .dataframe tbody tr th:only-of-type {\n",
       "        vertical-align: middle;\n",
       "    }\n",
       "\n",
       "    .dataframe tbody tr th {\n",
       "        vertical-align: top;\n",
       "    }\n",
       "\n",
       "    .dataframe thead th {\n",
       "        text-align: right;\n",
       "    }\n",
       "</style>\n",
       "<table border=\"1\" class=\"dataframe\">\n",
       "  <thead>\n",
       "    <tr style=\"text-align: right;\">\n",
       "      <th></th>\n",
       "      <th>man</th>\n",
       "      <th>woman</th>\n",
       "    </tr>\n",
       "  </thead>\n",
       "  <tbody>\n",
       "    <tr>\n",
       "      <th>0</th>\n",
       "      <td>True</td>\n",
       "      <td>False</td>\n",
       "    </tr>\n",
       "    <tr>\n",
       "      <th>1</th>\n",
       "      <td>True</td>\n",
       "      <td>False</td>\n",
       "    </tr>\n",
       "    <tr>\n",
       "      <th>2</th>\n",
       "      <td>False</td>\n",
       "      <td>True</td>\n",
       "    </tr>\n",
       "    <tr>\n",
       "      <th>3</th>\n",
       "      <td>True</td>\n",
       "      <td>False</td>\n",
       "    </tr>\n",
       "    <tr>\n",
       "      <th>4</th>\n",
       "      <td>True</td>\n",
       "      <td>False</td>\n",
       "    </tr>\n",
       "    <tr>\n",
       "      <th>...</th>\n",
       "      <td>...</td>\n",
       "      <td>...</td>\n",
       "    </tr>\n",
       "    <tr>\n",
       "      <th>995</th>\n",
       "      <td>True</td>\n",
       "      <td>False</td>\n",
       "    </tr>\n",
       "    <tr>\n",
       "      <th>996</th>\n",
       "      <td>True</td>\n",
       "      <td>False</td>\n",
       "    </tr>\n",
       "    <tr>\n",
       "      <th>997</th>\n",
       "      <td>False</td>\n",
       "      <td>True</td>\n",
       "    </tr>\n",
       "    <tr>\n",
       "      <th>998</th>\n",
       "      <td>False</td>\n",
       "      <td>True</td>\n",
       "    </tr>\n",
       "    <tr>\n",
       "      <th>999</th>\n",
       "      <td>True</td>\n",
       "      <td>False</td>\n",
       "    </tr>\n",
       "  </tbody>\n",
       "</table>\n",
       "<p>1000 rows × 2 columns</p>\n",
       "</div>"
      ],
      "text/plain": [
       "       man  woman\n",
       "0     True  False\n",
       "1     True  False\n",
       "2    False   True\n",
       "3     True  False\n",
       "4     True  False\n",
       "..     ...    ...\n",
       "995   True  False\n",
       "996   True  False\n",
       "997  False   True\n",
       "998  False   True\n",
       "999   True  False\n",
       "\n",
       "[1000 rows x 2 columns]"
      ]
     },
     "execution_count": 4,
     "metadata": {},
     "output_type": "execute_result"
    }
   ],
   "source": [
    "# 더미 변수로 만들기 전에 카테고리 형으로 변환\n",
    "customer_tb['sex'] = pd.Categorical(customer_tb['sex'])\n",
    "\n",
    "# get_dummies 함수로 sex를 더미 변수화\n",
    "# drop_first를 False로 하면, 카테고리값의 모든 종류 값의 더미 플래그를 생성\n",
    "dummy_vars = pd.get_dummies(customer_tb['sex'], drop_first=False)\n",
    "\n",
    "dummy_vars"
   ]
  },
  {
   "cell_type": "code",
   "execution_count": 5,
   "metadata": {},
   "outputs": [],
   "source": [
    "# pd.Categorical로 category형으로 변환\n",
    "customer_tb['age_rank'] = \\\n",
    "  pd.Categorical(np.floor(customer_tb['age']/10)*10)\n",
    "\n",
    "# 마스터 데이터에 '60 이상'을 추가\n",
    "#customer_tb['age_rank'].cat.add_categories(['60 이상'], inplace=True)\n",
    "customer_tb['age_rank'] = customer_tb['age_rank'].cat.add_categories(['60 이상'])\n",
    "\n",
    "\n",
    "# 집약할 데이터 변경하기\n",
    "# category형은 = 또는 != 만 판정할 수 있기 때문에 isin 함수를 이용\n",
    "customer_tb.loc[customer_tb['age_rank'] \\\n",
    "           .isin([60.0, 70.0, 80.0]), 'age_rank'] = '60 이상'\n",
    "\n",
    "# 사용되지 않는 마스터 데이터를 제거\n",
    "#customer_tb['age_rank'].cat.remove_unused_categories(inplace=True)\n",
    "customer_tb['age_rank'] = customer_tb['age_rank'].cat.remove_unused_categories()\n"
   ]
  },
  {
   "cell_type": "code",
   "execution_count": null,
   "metadata": {},
   "outputs": [
    {
     "name": "stderr",
     "output_type": "stream",
     "text": [
      "/tmp/ipykernel_15953/4080997925.py:8: FutureWarning: Series.__getitem__ treating keys as positions is deprecated. In a future version, integer keys will always be treated as labels (consistent with DataFrame behavior). To access a value by position, use `ser.iloc[pos]`\n",
      "  .apply(lambda x: '{}_{}'.format(x[0], np.floor(x[1] / 10) * 10),\n"
     ]
    },
    {
     "data": {
      "text/plain": [
       "0        man_40.0\n",
       "1        man_30.0\n",
       "2      woman_40.0\n",
       "3        man_40.0\n",
       "4        man_30.0\n",
       "          ...    \n",
       "995      man_40.0\n",
       "996      man_30.0\n",
       "997    woman_30.0\n",
       "998    woman_40.0\n",
       "999      man_30.0\n",
       "Name: sex_and_age, Length: 1000, dtype: category\n",
       "Categories (14, object): ['man_20.0', 'man_30.0', 'man_40.0', 'man_50.0', ..., 'woman_50.0', 'woman_60.0', 'woman_70.0', 'woman_80.0']"
      ]
     },
     "execution_count": 8,
     "metadata": {},
     "output_type": "execute_result"
    }
   ],
   "source": [
    "\n",
    "customer_tb['sex_and_age'] = pd.Categorical(\n",
    "  # 연결할 열을 추출\n",
    "  customer_tb[['sex', 'age']]\n",
    "\n",
    "    # lambda 함수에서 sex와 10살 단위로 구분한 age 사이에 _를 추가하여 연결\n",
    "    .apply(lambda x: '{}_{}'.format(x[0], np.floor(x[1] / 10) * 10),\n",
    "           axis=1)\n",
    ")\n",
    "customer_tb['sex_and_age']"
   ]
  },
  {
   "cell_type": "code",
   "execution_count": 10,
   "metadata": {},
   "outputs": [
    {
     "name": "stderr",
     "output_type": "stream",
     "text": [
      "/tmp/ipykernel_15953/233461485.py:14: FutureWarning: Series.__getitem__ treating keys as positions is deprecated. In a future version, integer keys will always be treated as labels (consistent with DataFrame behavior). To access a value by position, use `ser.iloc[pos]`\n",
      "  (fault_cnt_per_type[x[0]] - int(x[1])) / (type_cnt[x[0]] - 1),\n"
     ]
    }
   ],
   "source": [
    "\n",
    "production = load_production()\n",
    "\n",
    "# 제품 종류별 불량률\n",
    "fault_cnt_per_type = production \\\n",
    "  .query('fault_flg') \\\n",
    "  .groupby('type')['fault_flg'] \\\n",
    "  .count()\n",
    "\n",
    "# 제품 종류별 제조수\n",
    "type_cnt = production.groupby('type')['fault_flg'].count()\n",
    "\n",
    "production['type_fault_rate'] = production[['type', 'fault_flg']] \\\n",
    "  .apply(lambda x:\n",
    "         (fault_cnt_per_type[x[0]] - int(x[1])) / (type_cnt[x[0]] - 1),\n",
    "         axis=1)\n"
   ]
  },
  {
   "cell_type": "code",
   "execution_count": null,
   "metadata": {},
   "outputs": [],
   "source": [
    "production_missc_tb = load_production_missing_category()\n",
    "\n",
    "# KNeighborsClassifier를 sklearn 라이브러이에서 읽어 들임\n",
    "from sklearn.neighbors import KNeighborsClassifier\n",
    "\n",
    "# replace 함수로 None을 nan으로 변환\n",
    "production_missc_tb.replace('None', np.nan, inplace=True)\n",
    "\n",
    "# 결손이 발생하지 않은 데이터를 추출\n",
    "train = production_missc_tb.dropna(subset=['type'], inplace=False)\n",
    "\n",
    "# 결손이 발생한 데이터를 추출\n",
    "test = production_missc_tb \\\n",
    "  .loc[production_missc_tb.index.difference(train.index), :]\n",
    "\n",
    "# knn 모델 생성, n_neighbors는 knn의 k 파라미터\n",
    "kn = KNeighborsClassifier(n_neighbors=3)\n",
    "\n",
    "# knn 모델 학습\n",
    "kn.fit(train[['length', 'thickness']], train['type'])\n",
    "\n",
    "# knn 모델로 예측값을 계산하여 type을 보완\n",
    "test['type'] = kn.predict(test[['length', 'thickness']])\n"
   ]
  }
 ],
 "metadata": {
  "kernelspec": {
   "display_name": "Python 3",
   "language": "python",
   "name": "python3"
  },
  "language_info": {
   "codemirror_mode": {
    "name": "ipython",
    "version": 3
   },
   "file_extension": ".py",
   "mimetype": "text/x-python",
   "name": "python",
   "nbconvert_exporter": "python",
   "pygments_lexer": "ipython3",
   "version": "3.12.1"
  }
 },
 "nbformat": 4,
 "nbformat_minor": 2
}
