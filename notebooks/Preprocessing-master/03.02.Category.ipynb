{
 "cells": [
  {
   "cell_type": "code",
   "execution_count": 1,
   "metadata": {},
   "outputs": [],
   "source": [
    "import pandas as pd\n",
    "import numpy as np\n",
    "\n",
    "import os\n",
    "\n",
    "def load_hotel_reserve():\n",
    "  customer_tb = pd.read_csv('../awesomebook-master/data/customer.csv')\n",
    "  hotel_tb = pd.read_csv('../awesomebook-master/data/hotel.csv')\n",
    "  reserve_tb = pd.read_csv('../awesomebook-master/data/reserve.csv')\n",
    "  return customer_tb, hotel_tb, reserve_tb\n",
    "\n",
    "\n",
    "def load_holiday_mst():\n",
    "  holiday_tb = pd.read_csv('../awesomebook-master/data/holiday_mst.csv',\n",
    "                           index_col=False)\n",
    "  return holiday_tb\n",
    "\n",
    "\n",
    "def load_production():\n",
    "  production_tb = pd.read_csv('../awesomebook-master/data/production.csv')\n",
    "  return production_tb\n",
    "\n",
    "\n",
    "def load_production_missing_num():\n",
    "  production_tb = pd.read_csv('../awesomebook-master/data/production_missing_num.csv')\n",
    "  return production_tb\n",
    "\n",
    "\n",
    "def load_production_missing_category():\n",
    "  production_tb = pd.read_csv('../awesomebook-master/data/production_missing_category.csv')\n",
    "  return production_tb\n",
    "\n",
    "\n",
    "def load_monthly_index():\n",
    "  monthly_index_tb = \\\n",
    "    pd.read_csv('../awesomebook-master/data/monthly_index.csv')\n",
    "  return monthly_index_tb\n",
    "\n",
    "\n",
    "def load_meros_txt():\n",
    "  with open('../awesomebook-master/data/txt/meros.txt', 'r') as f:\n",
    "    meros = f.read()\n",
    "    f.close()\n",
    "  return meros\n"
   ]
  },
  {
   "cell_type": "code",
   "execution_count": 2,
   "metadata": {},
   "outputs": [],
   "source": [
    "customer_tb, hotel_tb, reserve_tb = load_hotel_reserve()"
   ]
  },
  {
   "cell_type": "code",
   "execution_count": null,
   "metadata": {},
   "outputs": [
    {
     "data": {
      "text/plain": [
       "Index(['man', 'woman'], dtype='object')"
      ]
     },
     "execution_count": 3,
     "metadata": {},
     "output_type": "execute_result"
    }
   ],
   "source": [
    "customer_tb[['sex_is_man']] = (customer_tb[['sex']] == 'man').astype('bool')\n",
    "\n",
    "customer_tb['sex_c'] = \\\n",
    "  pd.Categorical(customer_tb['sex'], categories=['man', 'woman'])\n",
    "\n",
    "# customer_tb['sex_c'] = customer_tb['sex_c'].astype('category')\n",
    "\n",
    "customer_tb['sex_c'].cat.codes\n",
    "\n",
    "customer_tb['sex_c'].cat.categories\n"
   ]
  },
  {
   "cell_type": "code",
   "execution_count": null,
   "metadata": {},
   "outputs": [
    {
     "data": {
      "text/html": [
       "<div>\n",
       "<style scoped>\n",
       "    .dataframe tbody tr th:only-of-type {\n",
       "        vertical-align: middle;\n",
       "    }\n",
       "\n",
       "    .dataframe tbody tr th {\n",
       "        vertical-align: top;\n",
       "    }\n",
       "\n",
       "    .dataframe thead th {\n",
       "        text-align: right;\n",
       "    }\n",
       "</style>\n",
       "<table border=\"1\" class=\"dataframe\">\n",
       "  <thead>\n",
       "    <tr style=\"text-align: right;\">\n",
       "      <th></th>\n",
       "      <th>man</th>\n",
       "      <th>woman</th>\n",
       "    </tr>\n",
       "  </thead>\n",
       "  <tbody>\n",
       "    <tr>\n",
       "      <th>0</th>\n",
       "      <td>True</td>\n",
       "      <td>False</td>\n",
       "    </tr>\n",
       "    <tr>\n",
       "      <th>1</th>\n",
       "      <td>True</td>\n",
       "      <td>False</td>\n",
       "    </tr>\n",
       "    <tr>\n",
       "      <th>2</th>\n",
       "      <td>False</td>\n",
       "      <td>True</td>\n",
       "    </tr>\n",
       "    <tr>\n",
       "      <th>3</th>\n",
       "      <td>True</td>\n",
       "      <td>False</td>\n",
       "    </tr>\n",
       "    <tr>\n",
       "      <th>4</th>\n",
       "      <td>True</td>\n",
       "      <td>False</td>\n",
       "    </tr>\n",
       "    <tr>\n",
       "      <th>...</th>\n",
       "      <td>...</td>\n",
       "      <td>...</td>\n",
       "    </tr>\n",
       "    <tr>\n",
       "      <th>995</th>\n",
       "      <td>True</td>\n",
       "      <td>False</td>\n",
       "    </tr>\n",
       "    <tr>\n",
       "      <th>996</th>\n",
       "      <td>True</td>\n",
       "      <td>False</td>\n",
       "    </tr>\n",
       "    <tr>\n",
       "      <th>997</th>\n",
       "      <td>False</td>\n",
       "      <td>True</td>\n",
       "    </tr>\n",
       "    <tr>\n",
       "      <th>998</th>\n",
       "      <td>False</td>\n",
       "      <td>True</td>\n",
       "    </tr>\n",
       "    <tr>\n",
       "      <th>999</th>\n",
       "      <td>True</td>\n",
       "      <td>False</td>\n",
       "    </tr>\n",
       "  </tbody>\n",
       "</table>\n",
       "<p>1000 rows × 2 columns</p>\n",
       "</div>"
      ],
      "text/plain": [
       "       man  woman\n",
       "0     True  False\n",
       "1     True  False\n",
       "2    False   True\n",
       "3     True  False\n",
       "4     True  False\n",
       "..     ...    ...\n",
       "995   True  False\n",
       "996   True  False\n",
       "997  False   True\n",
       "998  False   True\n",
       "999   True  False\n",
       "\n",
       "[1000 rows x 2 columns]"
      ]
     },
     "execution_count": 4,
     "metadata": {},
     "output_type": "execute_result"
    }
   ],
   "source": [
    "customer_tb['sex'] = pd.Categorical(customer_tb['sex'])\n",
    "\n",
    "dummy_vars = pd.get_dummies(customer_tb['sex'], drop_first=False)\n",
    "\n",
    "dummy_vars"
   ]
  },
  {
   "cell_type": "code",
   "execution_count": null,
   "metadata": {},
   "outputs": [],
   "source": [
    "customer_tb['age_rank'] = \\\n",
    "  pd.Categorical(np.floor(customer_tb['age']/10)*10)\n",
    "\n",
    "#customer_tb['age_rank'].cat.add_categories(['60 이상'], inplace=True)\n",
    "customer_tb['age_rank'] = customer_tb['age_rank'].cat.add_categories(['60 이상'])\n",
    "\n",
    "\n",
    "customer_tb.loc[customer_tb['age_rank'] \\\n",
    "           .isin([60.0, 70.0, 80.0]), 'age_rank'] = '60 이상'\n",
    "\n",
    "customer_tb['age_rank'] = customer_tb['age_rank'].cat.remove_unused_categories()\n"
   ]
  },
  {
   "cell_type": "code",
   "execution_count": null,
   "metadata": {},
   "outputs": [
    {
     "name": "stderr",
     "output_type": "stream",
     "text": [
      "/tmp/ipykernel_15953/4080997925.py:8: FutureWarning: Series.__getitem__ treating keys as positions is deprecated. In a future version, integer keys will always be treated as labels (consistent with DataFrame behavior). To access a value by position, use `ser.iloc[pos]`\n",
      "  .apply(lambda x: '{}_{}'.format(x[0], np.floor(x[1] / 10) * 10),\n"
     ]
    },
    {
     "data": {
      "text/plain": [
       "0        man_40.0\n",
       "1        man_30.0\n",
       "2      woman_40.0\n",
       "3        man_40.0\n",
       "4        man_30.0\n",
       "          ...    \n",
       "995      man_40.0\n",
       "996      man_30.0\n",
       "997    woman_30.0\n",
       "998    woman_40.0\n",
       "999      man_30.0\n",
       "Name: sex_and_age, Length: 1000, dtype: category\n",
       "Categories (14, object): ['man_20.0', 'man_30.0', 'man_40.0', 'man_50.0', ..., 'woman_50.0', 'woman_60.0', 'woman_70.0', 'woman_80.0']"
      ]
     },
     "execution_count": 8,
     "metadata": {},
     "output_type": "execute_result"
    }
   ],
   "source": [
    "\n",
    "customer_tb['sex_and_age'] = pd.Categorical(\n",
    "  customer_tb[['sex', 'age']]\n",
    "\n",
    "    .apply(lambda x: '{}_{}'.format(x[0], np.floor(x[1] / 10) * 10),\n",
    "           axis=1)\n",
    ")\n",
    "customer_tb['sex_and_age']"
   ]
  },
  {
   "cell_type": "code",
   "execution_count": null,
   "metadata": {},
   "outputs": [
    {
     "name": "stderr",
     "output_type": "stream",
     "text": [
      "/tmp/ipykernel_15953/233461485.py:14: FutureWarning: Series.__getitem__ treating keys as positions is deprecated. In a future version, integer keys will always be treated as labels (consistent with DataFrame behavior). To access a value by position, use `ser.iloc[pos]`\n",
      "  (fault_cnt_per_type[x[0]] - int(x[1])) / (type_cnt[x[0]] - 1),\n"
     ]
    }
   ],
   "source": [
    "\n",
    "production = load_production()\n",
    "\n",
    "fault_cnt_per_type = production \\\n",
    "  .query('fault_flg') \\\n",
    "  .groupby('type')['fault_flg'] \\\n",
    "  .count()\n",
    "\n",
    "type_cnt = production.groupby('type')['fault_flg'].count()\n",
    "\n",
    "production['type_fault_rate'] = production[['type', 'fault_flg']] \\\n",
    "  .apply(lambda x:\n",
    "         (fault_cnt_per_type[x[0]] - int(x[1])) / (type_cnt[x[0]] - 1),\n",
    "         axis=1)\n"
   ]
  },
  {
   "cell_type": "code",
   "execution_count": null,
   "metadata": {},
   "outputs": [],
   "source": [
    "production_missc_tb = load_production_missing_category()\n",
    "\n",
    "from sklearn.neighbors import KNeighborsClassifier\n",
    "\n",
    "production_missc_tb.replace('None', np.nan, inplace=True)\n",
    "\n",
    "train = production_missc_tb.dropna(subset=['type'], inplace=False)\n",
    "\n",
    "test = production_missc_tb \\\n",
    "  .loc[production_missc_tb.index.difference(train.index), :]\n",
    "\n",
    "kn = KNeighborsClassifier(n_neighbors=3)\n",
    "\n",
    "kn.fit(train[['length', 'thickness']], train['type'])\n",
    "\n",
    "test['type'] = kn.predict(test[['length', 'thickness']])\n"
   ]
  }
 ],
 "metadata": {
  "kernelspec": {
   "display_name": "Python 3",
   "language": "python",
   "name": "python3"
  },
  "language_info": {
   "codemirror_mode": {
    "name": "ipython",
    "version": 3
   },
   "file_extension": ".py",
   "mimetype": "text/x-python",
   "name": "python",
   "nbconvert_exporter": "python",
   "pygments_lexer": "ipython3",
   "version": "3.12.1"
  }
 },
 "nbformat": 4,
 "nbformat_minor": 2
}
