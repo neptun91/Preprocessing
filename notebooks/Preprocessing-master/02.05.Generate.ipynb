{
 "cells": [
  {
   "cell_type": "code",
   "execution_count": 1,
   "metadata": {},
   "outputs": [],
   "source": [
    "import pandas as pd\n",
    "import numpy as np\n",
    "\n",
    "import os\n",
    "\n",
    "def load_hotel_reserve():\n",
    "  customer_tb = pd.read_csv('../awesomebook-master/data/customer.csv')\n",
    "  hotel_tb = pd.read_csv('../awesomebook-master/data/hotel.csv')\n",
    "  reserve_tb = pd.read_csv('../awesomebook-master/data/reserve.csv')\n",
    "  return customer_tb, hotel_tb, reserve_tb\n",
    "\n",
    "\n",
    "def load_holiday_mst():\n",
    "  holiday_tb = pd.read_csv('../awesomebook-master/data/holiday_mst.csv',\n",
    "                           index_col=False)\n",
    "  return holiday_tb\n",
    "\n",
    "\n",
    "def load_production():\n",
    "  production_tb = pd.read_csv('../awesomebook-master/data/production.csv')\n",
    "  return production_tb\n",
    "\n",
    "\n",
    "def load_production_missing_num():\n",
    "  production_tb = pd.read_csv('../awesomebook-master/data/production_missing_num.csv')\n",
    "  return production_tb\n",
    "\n",
    "\n",
    "def load_production_missing_category():\n",
    "  production_tb = pd.read_csv('../awesomebook-master/data/production_missing_category.csv')\n",
    "  return production_tb\n",
    "\n",
    "\n",
    "def load_monthly_index():\n",
    "  monthly_index_tb = \\\n",
    "    pd.read_csv('../awesomebook-master/data/monthly_index.csv')\n",
    "  return monthly_index_tb\n",
    "\n",
    "\n",
    "def load_meros_txt():\n",
    "  with open('../awesomebook-master/data/txt/meros.txt', 'r') as f:\n",
    "    meros = f.read()\n",
    "    f.close()\n",
    "  return meros\n"
   ]
  },
  {
   "cell_type": "code",
   "execution_count": 2,
   "metadata": {},
   "outputs": [],
   "source": [
    "production_tb = load_production()\n",
    "\n",
    "# 아래 부터 책에 게재\n",
    "# SMOTE 함수를 라이브러리에서 읽어 들임\n",
    "from imblearn.over_sampling import SMOTE\n",
    "\n",
    "# SMOTE 함수 설정\n",
    "# ratio는 불균형 데이터의 적은 열의 데이터를 많은 열의 몇 할 까지 늘릴지 설정\n",
    "# ( auto는 수가 같아질 때 까지 늘림, 0.5로 설정하면 5할 까지 데이터를 늘림)\n",
    "# k_neighbors는 smote의 k파라미터\n",
    "# random_state는 난수의 시드 ( 난수 생성 패턴의 씨악 값)\n",
    "sm = SMOTE(sampling_strategy='auto', k_neighbors=5, random_state=71)\n",
    "\n",
    "# 오버 샘플링 실행\n",
    "blance_data, balance_target = \\\n",
    "  sm.fit_resample(production_tb[['length', 'thickness']],\n",
    "                production_tb['fault_flg'])\n"
   ]
  }
 ],
 "metadata": {
  "kernelspec": {
   "display_name": "Python 3",
   "language": "python",
   "name": "python3"
  },
  "language_info": {
   "codemirror_mode": {
    "name": "ipython",
    "version": 3
   },
   "file_extension": ".py",
   "mimetype": "text/x-python",
   "name": "python",
   "nbconvert_exporter": "python",
   "pygments_lexer": "ipython3",
   "version": "3.12.1"
  }
 },
 "nbformat": 4,
 "nbformat_minor": 2
}
