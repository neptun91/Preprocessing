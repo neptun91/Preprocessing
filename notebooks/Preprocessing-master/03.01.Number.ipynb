{
 "cells": [
  {
   "cell_type": "code",
   "execution_count": 1,
   "metadata": {},
   "outputs": [],
   "source": [
    "import pandas as pd\n",
    "import numpy as np\n",
    "\n",
    "import os\n",
    "\n",
    "def load_hotel_reserve():\n",
    "  customer_tb = pd.read_csv('../awesomebook-master/data/customer.csv')\n",
    "  hotel_tb = pd.read_csv('../awesomebook-master/data/hotel.csv')\n",
    "  reserve_tb = pd.read_csv('../awesomebook-master/data/reserve.csv')\n",
    "  return customer_tb, hotel_tb, reserve_tb\n",
    "\n",
    "\n",
    "def load_holiday_mst():\n",
    "  holiday_tb = pd.read_csv('../awesomebook-master/data/holiday_mst.csv',\n",
    "                           index_col=False)\n",
    "  return holiday_tb\n",
    "\n",
    "\n",
    "def load_production():\n",
    "  production_tb = pd.read_csv('../awesomebook-master/data/production.csv')\n",
    "  return production_tb\n",
    "\n",
    "\n",
    "def load_production_missing_num():\n",
    "  production_tb = pd.read_csv('../awesomebook-master/data/production_missing_num.csv')\n",
    "  return production_tb\n",
    "\n",
    "\n",
    "def load_production_missing_category():\n",
    "  production_tb = pd.read_csv('../awesomebook-master/data/production_missing_category.csv')\n",
    "  return production_tb\n",
    "\n",
    "\n",
    "def load_monthly_index():\n",
    "  monthly_index_tb = \\\n",
    "    pd.read_csv('../awesomebook-master/data/monthly_index.csv')\n",
    "  return monthly_index_tb\n",
    "\n",
    "\n",
    "def load_meros_txt():\n",
    "  with open('../awesomebook-master/data/txt/meros.txt', 'r') as f:\n",
    "    meros = f.read()\n",
    "    f.close()\n",
    "  return meros\n"
   ]
  },
  {
   "cell_type": "code",
   "execution_count": 2,
   "metadata": {},
   "outputs": [],
   "source": [
    "customer_tb, hotel_tb, reserve_tb = load_hotel_reserve()"
   ]
  },
  {
   "cell_type": "code",
   "execution_count": 14,
   "metadata": {},
   "outputs": [
    {
     "name": "stdout",
     "output_type": "stream",
     "text": [
      "<class 'float'>\n",
      "13333\n",
      "13333.333333333334\n",
      "value    float64\n",
      "dtype: object\n",
      "0    21\n",
      "Name: value, dtype: int8\n",
      "0    13333\n",
      "Name: value, dtype: int16\n",
      "0    13333\n",
      "Name: value, dtype: int32\n",
      "0    13333\n",
      "Name: value, dtype: int64\n",
      "0    13336.0\n",
      "Name: value, dtype: float16\n",
      "0    13333.333008\n",
      "Name: value, dtype: float32\n",
      "0    13333.333333\n",
      "Name: value, dtype: float64\n",
      "0    13333.333333\n",
      "Name: value, dtype: float128\n",
      "0    13333\n",
      "Name: value, dtype: int64\n",
      "0    13333.333333\n",
      "Name: value, dtype: float64\n"
     ]
    },
    {
     "name": "stderr",
     "output_type": "stream",
     "text": [
      "/home/codespace/.local/lib/python3.12/site-packages/pandas/io/formats/format.py:1458: RuntimeWarning: overflow encountered in cast\n"
     ]
    }
   ],
   "source": [
    "import pandas as pd\n",
    "\n",
    "print(type(40000 / 3))\n",
    "\n",
    "print(int(40000 / 3))\n",
    "\n",
    "print(float(40000 / 3))\n",
    "\n",
    "df = pd.DataFrame({'value': [40000 / 3]})\n",
    "\n",
    "print(df.dtypes)\n",
    "\n",
    "print(df['value'].astype('int8'))\n",
    "print(df['value'].astype('int16'))\n",
    "print(df['value'].astype('int32'))\n",
    "print(df['value'].astype('int64'))\n",
    "\n",
    "print(df['value'].astype('float16'))\n",
    "print(df['value'].astype('float32'))\n",
    "print(df['value'].astype('float64'))\n",
    "print(df['value'].astype('float128'))\n",
    "\n",
    "print(df['value'].astype(int))\n",
    "print(df['value'].astype(float))\n"
   ]
  },
  {
   "cell_type": "code",
   "execution_count": 4,
   "metadata": {},
   "outputs": [
    {
     "data": {
      "text/plain": [
       "0       1.992111\n",
       "1       1.334454\n",
       "2       1.539076\n",
       "3       2.290925\n",
       "4       1.839478\n",
       "          ...   \n",
       "4025    1.230449\n",
       "4026    1.631444\n",
       "4027    1.879669\n",
       "4028    2.733197\n",
       "4029    1.654177\n",
       "Name: total_price_log, Length: 4030, dtype: float64"
      ]
     },
     "execution_count": 4,
     "metadata": {},
     "output_type": "execute_result"
    }
   ],
   "source": [
    "reserve_tb['total_price_log'] = \\\n",
    "  reserve_tb['total_price'].apply(lambda x: np.log10(x / 1000 + 1))\n",
    "\n",
    "reserve_tb['total_price_log']"
   ]
  },
  {
   "cell_type": "code",
   "execution_count": 5,
   "metadata": {},
   "outputs": [
    {
     "name": "stdout",
     "output_type": "stream",
     "text": [
      "0      40.0\n",
      "1      30.0\n",
      "2      40.0\n",
      "3      40.0\n",
      "4      30.0\n",
      "       ... \n",
      "995    40.0\n",
      "996    30.0\n",
      "997    30.0\n",
      "998    40.0\n",
      "999    30.0\n",
      "Name: age_rank, Length: 1000, dtype: category\n",
      "Categories (7, float64): [20.0, 30.0, 40.0, 50.0, 60.0, 70.0, 80.0]\n"
     ]
    }
   ],
   "source": [
    "customer_tb['age_rank'] = \\\n",
    "  (np.floor(customer_tb['age'] / 10) * 10).astype('category')\n",
    "\n",
    "print(customer_tb['age_rank'])\n"
   ]
  },
  {
   "cell_type": "code",
   "execution_count": 6,
   "metadata": {},
   "outputs": [
    {
     "data": {
      "text/plain": [
       "0       1.300709\n",
       "1      -0.483753\n",
       "2      -0.483753\n",
       "3       1.300709\n",
       "4       0.408478\n",
       "          ...   \n",
       "4025   -0.483753\n",
       "4026   -0.483753\n",
       "4027   -0.483753\n",
       "4028    1.300709\n",
       "4029   -1.375984\n",
       "Name: people_num_normalized, Length: 4030, dtype: float64"
      ]
     },
     "execution_count": 6,
     "metadata": {},
     "output_type": "execute_result"
    }
   ],
   "source": [
    "from sklearn.preprocessing import StandardScaler\n",
    "\n",
    "reserve_tb['people_num'] = reserve_tb['people_num'].astype(float)\n",
    "\n",
    "ss = StandardScaler()\n",
    "\n",
    "result = ss.fit_transform(reserve_tb[['people_num', 'total_price']])\n",
    "\n",
    "reserve_tb['people_num_normalized'] = [x[0] for x in result]\n",
    "reserve_tb['total_price_normalized'] = [x[1] for x in result]\n",
    "\n",
    "reserve_tb['people_num_normalized']"
   ]
  },
  {
   "cell_type": "code",
   "execution_count": 7,
   "metadata": {},
   "outputs": [],
   "source": [
    "reserve_tb = reserve_tb[\n",
    "  (abs(reserve_tb['total_price'] - np.mean(reserve_tb['total_price'])) /\n",
    "   np.std(reserve_tb['total_price']) <= 3)\n",
    "].reset_index()\n"
   ]
  },
  {
   "cell_type": "code",
   "execution_count": 8,
   "metadata": {},
   "outputs": [
    {
     "name": "stdout",
     "output_type": "stream",
     "text": [
      "누적 기여울: 0.9999999999999999\n",
      "각 차원의 기여율: [0.97897794 0.02102206]\n"
     ]
    },
    {
     "data": {
      "text/plain": [
       "array([[  76.96838157,   13.38906936],\n",
       "       [-112.11469337,    8.24884796],\n",
       "       [ -76.1994339 ,  -11.19027127],\n",
       "       ...,\n",
       "       [  31.12100559,  -15.48152593],\n",
       "       [-117.87675543,   -2.4361334 ],\n",
       "       [   4.80243541,   15.32174872]], shape=(1000, 2))"
      ]
     },
     "execution_count": 8,
     "metadata": {},
     "output_type": "execute_result"
    }
   ],
   "source": [
    "production_tb = load_production()\n",
    "\n",
    "from sklearn.decomposition import PCA\n",
    "\n",
    "pca = PCA(n_components=2)\n",
    "\n",
    "pca_values = pca.fit_transform(production_tb[['length', 'thickness']])\n",
    "\n",
    "print('누적 기여울: {0}'.format(sum(pca.explained_variance_ratio_)))\n",
    "print('각 차원의 기여율: {0}'.format(pca.explained_variance_ratio_))\n",
    "\n",
    "pca_newvalues = pca.transform(production_tb[['length', 'thickness']])\n",
    "\n",
    "pca_newvalues"
   ]
  },
  {
   "cell_type": "code",
   "execution_count": 9,
   "metadata": {},
   "outputs": [],
   "source": [
    "production_miss_num = load_production_missing_num()\n",
    "\n",
    "production_miss_num.replace('None', np.nan, inplace=True)\n",
    "\n",
    "production_miss_num.dropna(subset=['thickness'], inplace=True)"
   ]
  },
  {
   "cell_type": "code",
   "execution_count": 10,
   "metadata": {},
   "outputs": [
    {
     "name": "stderr",
     "output_type": "stream",
     "text": [
      "/tmp/ipykernel_4488/1325800178.py:3: FutureWarning: A value is trying to be set on a copy of a DataFrame or Series through chained assignment using an inplace method.\n",
      "The behavior will change in pandas 3.0. This inplace method will never work because the intermediate object on which we are setting values always behaves as a copy.\n",
      "\n",
      "For example, when doing 'df[col].method(value, inplace=True)', try using 'df.method({col: value}, inplace=True)' or df[col] = df[col].method(value) instead, to perform the operation inplace on the original object.\n",
      "\n",
      "\n",
      "  production_miss_num['thickness'].fillna(1, inplace=True)\n"
     ]
    }
   ],
   "source": [
    "production_miss_num.replace('None', np.nan, inplace=True)\n",
    "\n",
    "production_miss_num['thickness'].fillna(1, inplace=True)\n"
   ]
  },
  {
   "cell_type": "code",
   "execution_count": 11,
   "metadata": {},
   "outputs": [
    {
     "name": "stderr",
     "output_type": "stream",
     "text": [
      "/tmp/ipykernel_4488/2077286944.py:8: FutureWarning: A value is trying to be set on a copy of a DataFrame or Series through chained assignment using an inplace method.\n",
      "The behavior will change in pandas 3.0. This inplace method will never work because the intermediate object on which we are setting values always behaves as a copy.\n",
      "\n",
      "For example, when doing 'df[col].method(value, inplace=True)', try using 'df.method({col: value}, inplace=True)' or df[col] = df[col].method(value) instead, to perform the operation inplace on the original object.\n",
      "\n",
      "\n",
      "  production_miss_num['thickness'].fillna(thickness_mean, inplace=True)\n"
     ]
    }
   ],
   "source": [
    "production_miss_num.replace('None', np.nan, inplace=True)\n",
    "\n",
    "production_miss_num['thickness'] = \\\n",
    "  production_miss_num['thickness'].astype('float64')\n",
    "\n",
    "thickness_mean = production_miss_num['thickness'].mean()\n",
    "\n",
    "production_miss_num['thickness'].fillna(thickness_mean, inplace=True)\n",
    "\n"
   ]
  }
 ],
 "metadata": {
  "kernelspec": {
   "display_name": "Python 3",
   "language": "python",
   "name": "python3"
  },
  "language_info": {
   "codemirror_mode": {
    "name": "ipython",
    "version": 3
   },
   "file_extension": ".py",
   "mimetype": "text/x-python",
   "name": "python",
   "nbconvert_exporter": "python",
   "pygments_lexer": "ipython3",
   "version": "3.12.1"
  }
 },
 "nbformat": 4,
 "nbformat_minor": 2
}
