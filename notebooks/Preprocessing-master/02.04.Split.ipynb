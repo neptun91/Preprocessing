{
 "cells": [
  {
   "cell_type": "code",
   "execution_count": 1,
   "metadata": {},
   "outputs": [],
   "source": [
    "import pandas as pd\n",
    "import numpy as np\n",
    "\n",
    "import os\n",
    "\n",
    "def load_hotel_reserve():\n",
    "  customer_tb = pd.read_csv('../awesomebook-master/data/customer.csv')\n",
    "  hotel_tb = pd.read_csv('../awesomebook-master/data/hotel.csv')\n",
    "  reserve_tb = pd.read_csv('../awesomebook-master/data/reserve.csv')\n",
    "  return customer_tb, hotel_tb, reserve_tb\n",
    "\n",
    "\n",
    "def load_holiday_mst():\n",
    "  holiday_tb = pd.read_csv('../awesomebook-master/data/holiday_mst.csv',\n",
    "                           index_col=False)\n",
    "  return holiday_tb\n",
    "\n",
    "\n",
    "def load_production():\n",
    "  production_tb = pd.read_csv('../awesomebook-master/data/production.csv')\n",
    "  return production_tb\n",
    "\n",
    "\n",
    "def load_production_missing_num():\n",
    "  production_tb = pd.read_csv('../awesomebook-master/data/production_missing_num.csv')\n",
    "  return production_tb\n",
    "\n",
    "\n",
    "def load_production_missing_category():\n",
    "  production_tb = pd.read_csv('../awesomebook-master/data/production_missing_category.csv')\n",
    "  return production_tb\n",
    "\n",
    "\n",
    "def load_monthly_index():\n",
    "  monthly_index_tb = \\\n",
    "    pd.read_csv('../awesomebook-master/data/monthly_index.csv')\n",
    "  return monthly_index_tb\n",
    "\n",
    "\n",
    "def load_meros_txt():\n",
    "  with open('../awesomebook-master/data/txt/meros.txt', 'r') as f:\n",
    "    meros = f.read()\n",
    "    f.close()\n",
    "  return meros\n"
   ]
  },
  {
   "cell_type": "code",
   "execution_count": 2,
   "metadata": {},
   "outputs": [],
   "source": [
    "production_tb = load_production()"
   ]
  },
  {
   "cell_type": "code",
   "execution_count": null,
   "metadata": {},
   "outputs": [],
   "source": [
    "from sklearn.model_selection import train_test_split\n",
    "from sklearn.model_selection import KFold\n",
    "\n",
    "train_data, test_data, train_target, test_target = \\\n",
    "  train_test_split(production_tb.drop('fault_flg', axis=1),\n",
    "                   production_tb[['fault_flg']],\n",
    "                   test_size=0.2)\n",
    "\n",
    "train_data.reset_index(inplace=True, drop=True)\n",
    "test_data.reset_index(inplace=True, drop=True)\n",
    "train_target.reset_index(inplace=True, drop=True)\n",
    "test_target.reset_index(inplace=True, drop=True)\n",
    "\n",
    "row_no_list = list(range(len(train_target)))\n",
    "\n",
    "k_fold = KFold(n_splits=4, shuffle=True)\n",
    "\n",
    "for train_cv_no, test_cv_no in k_fold.split(row_no_list):\n",
    "\n",
    "  train_cv = train_data.iloc[train_cv_no, :]\n",
    "\n",
    "  test_cv = train_data.iloc[test_cv_no, :]\n",
    "\n"
   ]
  },
  {
   "cell_type": "code",
   "execution_count": null,
   "metadata": {},
   "outputs": [],
   "source": [
    "monthly_index_tb = load_monthly_index()\n",
    "\n",
    "train_window_start = 1\n",
    "train_window_end = 24\n",
    "horizon = 12\n",
    "skip = 12\n",
    "\n",
    "monthly_index_tb.sort_values(by='year_month')\n",
    "\n",
    "while True:\n",
    "  test_window_end = train_window_end + horizon\n",
    "\n",
    "  train = monthly_index_tb[train_window_start:train_window_end]\n",
    "\n",
    "  test = monthly_index_tb[(train_window_end + 1):test_window_end]\n",
    "\n",
    "  if test_window_end >= len(monthly_index_tb.index):\n",
    "    break\n",
    "\n",
    "  train_window_start += skip\n",
    "  train_window_end += skip\n",
    "\n"
   ]
  }
 ],
 "metadata": {
  "kernelspec": {
   "display_name": "Python 3",
   "language": "python",
   "name": "python3"
  },
  "language_info": {
   "codemirror_mode": {
    "name": "ipython",
    "version": 3
   },
   "file_extension": ".py",
   "mimetype": "text/x-python",
   "name": "python",
   "nbconvert_exporter": "python",
   "pygments_lexer": "ipython3",
   "version": "3.12.1"
  }
 },
 "nbformat": 4,
 "nbformat_minor": 2
}
